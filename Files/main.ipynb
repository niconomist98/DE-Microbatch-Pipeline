{
 "cells": [
  {
   "cell_type": "markdown",
   "metadata": {},
   "source": [
    "## Prueba tecnica Ingeniero de Datos Pragma\n",
    "Presentado por: Nicolas Restrepo Carvajal\n",
    "\n",
    "* Ingeniero de Datos, MsC en Ingeniería , Docente universitario"
   ]
  },
  {
   "cell_type": "code",
   "execution_count": 18,
   "metadata": {
    "vscode": {
     "languageId": "plaintext"
    }
   },
   "outputs": [],
   "source": [
    "import sqlite3\n",
    "import os\n",
    "import time \n",
    "import pandas as pd\n",
    "from pyspark.sql import SparkSession\n",
    "import os\n",
    "import time \n",
    "import pandas as pd\n",
    "from spark_sql_to_sqlite import spark_sql_to_sqlite\n"
   ]
  },
  {
   "cell_type": "code",
   "execution_count": 16,
   "metadata": {},
   "outputs": [
    {
     "name": "stdout",
     "output_type": "stream",
     "text": [
      "../Data/raw/2012-5.csv\n",
      "2012-5\n",
      "../Data/raw/2012-1.csv\n",
      "2012-1\n",
      "../Data/raw/2012-3.csv\n",
      "2012-3\n",
      "../Data/raw/2012-4.csv\n",
      "2012-4\n",
      "../Data/raw/2012-2.csv\n",
      "2012-2\n",
      "['2012-5', '2012-1', '2012-3', '2012-4', '2012-2']\n"
     ]
    }
   ],
   "source": [
    "\n",
    "spark = SparkSession.builder.appName('Adventure Works').getOrCreate()\n",
    "\n",
    "def read_csv_files(directory_path):\n",
    "    \n",
    "    files = [f for f in os.listdir(directory_path) if f.endswith('.csv')]\n",
    "    datasets = {}\n",
    "    \n",
    "    for file in files:\n",
    "        file_path = os.path.join(directory_path, file)\n",
    "        dataset_name = os.path.splitext(file)[0]\n",
    "        print(file_path)\n",
    "        print(dataset_name)\n",
    "        dataset = spark.read.csv(file_path, inferSchema=True, header=True)\n",
    "        datasets[dataset_name] = dataset\n",
    "        \n",
    "    return datasets\n",
    "\n",
    "\n",
    "def createTempViews(datasets):\n",
    "    for i in datasets.keys():\n",
    "        print(\"Creating dataset \"+ i)\n",
    "        #time.sleep(1)\n",
    "        print(\"...access this view using the following query  -> select * from \"+i+\"\\n\" )\n",
    "        datasets[i].createOrReplaceTempView(\"\"+i)\n",
    "        \n",
    "        \n",
    "def query(Query):\n",
    "    return spark.sql(f\"{Query}\").show()\n",
    "    \n",
    "            \n",
    "if __name__ == \"__main__\":\n",
    "    \n",
    "    directory_path = \"../Data/raw\"\n",
    "    datasets = read_csv_files(directory_path)\n",
    "    table_names = list(datasets.keys())\n",
    "    print(table_names)\n",
    "    #createTempViews(datasets)"
   ]
  },
  {
   "cell_type": "code",
   "execution_count": 2,
   "metadata": {},
   "outputs": [],
   "source": [
    "#Conectandonos  a la base de datos de sqlite\n",
    "conn = sqlite3.connect('../../pragma.db')"
   ]
  },
  {
   "cell_type": "code",
   "execution_count": 4,
   "metadata": {},
   "outputs": [],
   "source": [
    "#Creando el cursor\n",
    "cursor = conn.cursor()\n"
   ]
  },
  {
   "cell_type": "code",
   "execution_count": null,
   "metadata": {},
   "outputs": [],
   "source": []
  }
 ],
 "metadata": {
  "kernelspec": {
   "display_name": "Python 3 (ipykernel)",
   "language": "python",
   "name": "python3"
  },
  "language_info": {
   "codemirror_mode": {
    "name": "ipython",
    "version": 3
   },
   "file_extension": ".py",
   "mimetype": "text/x-python",
   "name": "python",
   "nbconvert_exporter": "python",
   "pygments_lexer": "ipython3",
   "version": "3.12.3"
  }
 },
 "nbformat": 4,
 "nbformat_minor": 4
}
