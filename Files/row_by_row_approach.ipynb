{
 "cells": [
  {
   "cell_type": "markdown",
   "metadata": {},
   "source": [
    "## Prueba tecnica Ingeniero de Datos Pragma\n",
    "Presentado por: Nicolas Restrepo Carvajal\n",
    "\n",
    "* Ingeniero de Datos, MsC en Ingeniería , Docente universitario"
   ]
  },
  {
   "cell_type": "code",
   "execution_count": 1,
   "metadata": {
    "vscode": {
     "languageId": "plaintext"
    }
   },
   "outputs": [],
   "source": [
    "import sqlite3\n",
    "import os\n",
    "import time \n",
    "import csv\n",
    "import os\n",
    "import time \n",
    "import pandas as pd\n"
   ]
  },
  {
   "cell_type": "code",
   "execution_count": 4,
   "metadata": {},
   "outputs": [],
   "source": [
    "def replace_missing_values(input_folder, output_folder):\n",
    "    files = [f for f in os.listdir(input_folder) if f.endswith('.csv')]\n",
    "    for file in files:\n",
    "        in_file_path = os.path.join(input_folder, file)\n",
    "        out_file_path=os.path.join(output_folder, file)\n",
    "        dataset_name = os.path.splitext(file)[0]\n",
    "        print(in_file_path)\n",
    "        print(out_file_path)\n",
    "\n",
    "        print(dataset_name)\n",
    "        with open(in_file_path, 'r') as infile, open(out_file_path, 'w', newline='') as outfile:\n",
    "            reader = csv.reader(infile)\n",
    "            writer = csv.writer(outfile)\n",
    "            for row in reader:\n",
    "                # Replace empty strings with '0'\n",
    "                row = [value if value.strip() else '0' for value in row]\n",
    "                writer.writerow(row)\n",
    "\n",
    "def connect_sqlite(path):\n",
    "    conn = sqlite3.connect(path)\n",
    "    cursor = conn.cursor()\n",
    "    return conn\n",
    "    \n",
    "def close_sqlite(conn):\n",
    "    conn.close()\n",
    "\n",
    "def execute(statement):\n",
    "    conn = sqlite3.connect(sqlite_db_path)\n",
    "    cursor = conn.cursor()\n",
    "    query = statement\n",
    "    cursor.execute(statement)\n",
    "    conn.commit()\n",
    "    rows = cursor.fetchall()\n",
    "\n",
    "    for row in rows:\n",
    "        print(row)\n",
    "    conn.close()\n",
    "\n",
    "   \n",
    "\n",
    "def insert_csv_line_sqlite(directory_path,sqlite_db_path,table_name):\n",
    "    conn = sqlite3.connect(sqlite_db_path)\n",
    "    cursor = conn.cursor()\n",
    "    files = [f for f in os.listdir(directory_path) if f.endswith('.csv')]\n",
    "    log_row_count=0\n",
    "    logs_prices=[]\n",
    "    for file in files:\n",
    "\n",
    "        file_path = os.path.join(directory_path, file)\n",
    "        dataset_name = os.path.splitext(file)[0]\n",
    "        print(file_path)\n",
    "        print(dataset_name)\n",
    "        \n",
    "        with open(file_path, newline='', encoding='utf-8') as csvfile:\n",
    "            csv_reader = csv.reader(csvfile)\n",
    "            next(csv_reader)\n",
    "            for row in csv_reader:\n",
    "                query = f'INSERT INTO {table_name} (timestamp, price, user_id) VALUES (?, ?, ?)'\n",
    "                log_row_count+=1\n",
    "                logs_prices.append(int(row[1]))  \n",
    "                print(f\"Stats:\\nInserted rows count :  {log_row_count}\\nAverage of Price: {sum(logs_prices) /len(logs_prices)}\\nMinimun Price: {min(logs_prices)}\\nMax Price : {max(logs_prices)}\")\n",
    "                cursor.execute(query, row)\n",
    "        conn.commit()\n",
    "    conn.close()"
   ]
  },
  {
   "cell_type": "code",
   "execution_count": 5,
   "metadata": {},
   "outputs": [
    {
     "name": "stdout",
     "output_type": "stream",
     "text": [
      "../Data/raw/2012-5.csv\n",
      "../Data/preprocessed/2012-5.csv\n",
      "2012-5\n",
      "../Data/raw/2012-1.csv\n",
      "../Data/preprocessed/2012-1.csv\n",
      "2012-1\n",
      "../Data/raw/2012-3.csv\n",
      "../Data/preprocessed/2012-3.csv\n",
      "2012-3\n",
      "../Data/raw/2012-4.csv\n",
      "../Data/preprocessed/2012-4.csv\n",
      "2012-4\n",
      "../Data/raw/2012-2.csv\n",
      "../Data/preprocessed/2012-2.csv\n",
      "2012-2\n"
     ]
    },
    {
     "ename": "OperationalError",
     "evalue": "database is locked",
     "output_type": "error",
     "traceback": [
      "\u001b[0;31m---------------------------------------------------------------------------\u001b[0m",
      "\u001b[0;31mOperationalError\u001b[0m                          Traceback (most recent call last)",
      "Cell \u001b[0;32mIn[5], line 8\u001b[0m\n\u001b[1;32m      6\u001b[0m table_name\u001b[38;5;241m=\u001b[39m\u001b[38;5;124m'\u001b[39m\u001b[38;5;124mprices\u001b[39m\u001b[38;5;124m'\u001b[39m\n\u001b[1;32m      7\u001b[0m drop_table\u001b[38;5;241m=\u001b[39m\u001b[38;5;124mf\u001b[39m\u001b[38;5;124m\"\"\"\u001b[39m\u001b[38;5;124mdrop table if exists \u001b[39m\u001b[38;5;132;01m{\u001b[39;00mtable_name\u001b[38;5;132;01m}\u001b[39;00m\u001b[38;5;124m\"\"\"\u001b[39m\n\u001b[0;32m----> 8\u001b[0m \u001b[43mexecute\u001b[49m\u001b[43m(\u001b[49m\u001b[43mdrop_table\u001b[49m\u001b[43m)\u001b[49m\n\u001b[1;32m      9\u001b[0m create_table \u001b[38;5;241m=\u001b[39m \u001b[38;5;124mf\u001b[39m\u001b[38;5;124m\"\"\"\u001b[39m\n\u001b[1;32m     10\u001b[0m \u001b[38;5;124mCREATE TABLE IF NOT EXISTS \u001b[39m\u001b[38;5;132;01m{\u001b[39;00mtable_name\u001b[38;5;132;01m}\u001b[39;00m\u001b[38;5;124m (\u001b[39m\n\u001b[1;32m     11\u001b[0m \u001b[38;5;124m    timestamp DATE,\u001b[39m\n\u001b[0;32m   (...)\u001b[0m\n\u001b[1;32m     14\u001b[0m \u001b[38;5;124m);\u001b[39m\n\u001b[1;32m     15\u001b[0m \u001b[38;5;124m\u001b[39m\u001b[38;5;124m\"\"\"\u001b[39m\n\u001b[1;32m     16\u001b[0m execute(create_table)\n",
      "Cell \u001b[0;32mIn[4], line 31\u001b[0m, in \u001b[0;36mexecute\u001b[0;34m(statement)\u001b[0m\n\u001b[1;32m     29\u001b[0m cursor \u001b[38;5;241m=\u001b[39m conn\u001b[38;5;241m.\u001b[39mcursor()\n\u001b[1;32m     30\u001b[0m query \u001b[38;5;241m=\u001b[39m statement\n\u001b[0;32m---> 31\u001b[0m \u001b[43mcursor\u001b[49m\u001b[38;5;241;43m.\u001b[39;49m\u001b[43mexecute\u001b[49m\u001b[43m(\u001b[49m\u001b[43mstatement\u001b[49m\u001b[43m)\u001b[49m\n\u001b[1;32m     32\u001b[0m conn\u001b[38;5;241m.\u001b[39mcommit()\n\u001b[1;32m     33\u001b[0m rows \u001b[38;5;241m=\u001b[39m cursor\u001b[38;5;241m.\u001b[39mfetchall()\n",
      "\u001b[0;31mOperationalError\u001b[0m: database is locked"
     ]
    }
   ],
   "source": [
    "\n",
    "if __name__ == \"__main__\":\n",
    "    raw_data_path = \"../Data/raw\"\n",
    "    preprocessed_data_path=\"../Data/preprocessed\"\n",
    "    replace_missing_values(raw_data_path,preprocessed_data_path)\n",
    "    sqlite_db_path='../database/pragma.db'\n",
    "    table_name='prices'\n",
    "    drop_table=f\"\"\"drop table if exists {table_name}\"\"\"\n",
    "    execute(drop_table)\n",
    "    create_table = f\"\"\"\n",
    "    CREATE TABLE IF NOT EXISTS {table_name} (\n",
    "        timestamp DATE,\n",
    "        price double precision,\n",
    "        user_id INTEGER\n",
    "    );\n",
    "    \"\"\"\n",
    "    execute(create_table)\n",
    "    insert_csv_line_sqlite(preprocessed_data_path,sqlite_db_path,table_name)\n"
   ]
  },
  {
   "cell_type": "code",
   "execution_count": null,
   "metadata": {},
   "outputs": [],
   "source": [
    "select_table=f\"\"\"select count(1) from {table_name}\"\"\"\n",
    "execute(select_table)\n"
   ]
  },
  {
   "cell_type": "code",
   "execution_count": null,
   "metadata": {},
   "outputs": [],
   "source": []
  },
  {
   "cell_type": "code",
   "execution_count": null,
   "metadata": {},
   "outputs": [],
   "source": []
  }
 ],
 "metadata": {
  "kernelspec": {
   "display_name": "Python 3 (ipykernel)",
   "language": "python",
   "name": "python3"
  },
  "language_info": {
   "codemirror_mode": {
    "name": "ipython",
    "version": 3
   },
   "file_extension": ".py",
   "mimetype": "text/x-python",
   "name": "python",
   "nbconvert_exporter": "python",
   "pygments_lexer": "ipython3",
   "version": "3.12.3"
  }
 },
 "nbformat": 4,
 "nbformat_minor": 4
}
