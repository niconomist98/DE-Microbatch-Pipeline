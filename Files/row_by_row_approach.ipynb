{
 "cells": [
  {
   "cell_type": "markdown",
   "metadata": {},
   "source": [
    "## Prueba tecnica Ingeniero de Datos Pragma\n",
    "Presentado por: Nicolas Restrepo Carvajal\n",
    "\n",
    "* Ingeniero de Datos, MsC en Ingeniería , Docente universitario"
   ]
  },
  {
   "cell_type": "code",
   "execution_count": 1,
   "metadata": {
    "vscode": {
     "languageId": "plaintext"
    }
   },
   "outputs": [],
   "source": [
    "import sqlite3\n",
    "import os\n",
    "import time \n",
    "import csv\n",
    "import os\n",
    "import time \n",
    "import pandas as pd\n"
   ]
  },
  {
   "cell_type": "code",
   "execution_count": 42,
   "metadata": {},
   "outputs": [],
   "source": [
    "\n",
    "def connect_sqlite(path):\n",
    "    conn = sqlite3.connect(path)\n",
    "    cursor = conn.cursor()\n",
    "    return conn\n",
    "    \n",
    "def close_sqlite(conn):\n",
    "    conn.close()\n",
    "\n",
    "def execute(statement):\n",
    "    conn = sqlite3.connect(sqlite_db_path)\n",
    "    cursor = conn.cursor()\n",
    "    query = statement\n",
    "    cursor.execute(statement)\n",
    "    conn.commit()\n",
    "    rows = cursor.fetchall()\n",
    "\n",
    "    for row in rows:\n",
    "        print(row)\n",
    "    conn.close()\n",
    "\n",
    "   \n",
    "\n",
    "def insert_csv_line_sqlite(directory_path,sqlite_db_path,table_name):\n",
    "    conn = sqlite3.connect(sqlite_db_path)\n",
    "    cursor = conn.cursor()\n",
    "    files = [f for f in os.listdir(directory_path) if f.endswith('.csv')]\n",
    "    datasets = {}\n",
    "    \n",
    "    for file in files:\n",
    "        file_path = os.path.join(directory_path, file)\n",
    "        dataset_name = os.path.splitext(file)[0]\n",
    "        print(file_path)\n",
    "        print(dataset_name)\n",
    "        \n",
    "        with open(file_path, newline='', encoding='utf-8') as csvfile:\n",
    "            csv_reader = csv.reader(csvfile)\n",
    "            next(csv_reader)\n",
    "            for row in csv_reader:\n",
    "                query = f'INSERT INTO {table_name} (timestamp, price, user_id) VALUES (?, ?, ?)'\n",
    "                cursor.execute(query, row)\n",
    "        conn.commit()\n",
    "    conn.close()\n",
    "            \n",
    "            \n",
    "    return datasets"
   ]
  },
  {
   "cell_type": "code",
   "execution_count": 46,
   "metadata": {},
   "outputs": [
    {
     "name": "stdout",
     "output_type": "stream",
     "text": [
      "../Data/raw/2012-5.csv\n",
      "2012-5\n",
      "../Data/raw/2012-1.csv\n",
      "2012-1\n",
      "../Data/raw/2012-3.csv\n",
      "2012-3\n",
      "../Data/raw/2012-4.csv\n",
      "2012-4\n",
      "../Data/raw/2012-2.csv\n",
      "2012-2\n"
     ]
    }
   ],
   "source": [
    "\n",
    "if __name__ == \"__main__\":\n",
    "    raw_data_path = \"../Data/raw\"\n",
    "    sqlite_db_path='../database/pragma.db'\n",
    "    table_name='prices'\n",
    "    drop_table=f\"\"\"drop table if exists {table_name}\"\"\"\n",
    "    execute(drop_table)\n",
    "    create_table = f\"\"\"\n",
    "    CREATE TABLE IF NOT EXISTS {table_name} (\n",
    "        timestamp DATE,\n",
    "        price double precision,\n",
    "        user_id INTEGER\n",
    "    );\n",
    "    \"\"\"\n",
    "    execute(create_table)\n",
    "    insert_csv_line_sqlite(raw_data_path,sqlite_db_path,table_name)\n"
   ]
  },
  {
   "cell_type": "code",
   "execution_count": 47,
   "metadata": {},
   "outputs": [
    {
     "name": "stdout",
     "output_type": "stream",
     "text": [
      "(143,)\n"
     ]
    }
   ],
   "source": [
    "select_table=f\"\"\"select count(1) from {table_name}\"\"\"\n",
    "execute(select_table)\n"
   ]
  },
  {
   "cell_type": "code",
   "execution_count": 38,
   "metadata": {},
   "outputs": [],
   "source": []
  },
  {
   "cell_type": "code",
   "execution_count": null,
   "metadata": {},
   "outputs": [],
   "source": []
  }
 ],
 "metadata": {
  "kernelspec": {
   "display_name": "Python 3 (ipykernel)",
   "language": "python",
   "name": "python3"
  },
  "language_info": {
   "codemirror_mode": {
    "name": "ipython",
    "version": 3
   },
   "file_extension": ".py",
   "mimetype": "text/x-python",
   "name": "python",
   "nbconvert_exporter": "python",
   "pygments_lexer": "ipython3",
   "version": "3.12.3"
  }
 },
 "nbformat": 4,
 "nbformat_minor": 4
}
