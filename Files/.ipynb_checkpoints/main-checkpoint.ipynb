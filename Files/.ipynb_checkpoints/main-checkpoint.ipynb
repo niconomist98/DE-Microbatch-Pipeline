{
 "cells": [
  {
   "cell_type": "markdown",
   "metadata": {},
   "source": [
    "## Prueba tecnica Ingeniero de Datos Pragma\n",
    "Presentado por: Nicolas Restrepo Carvajal\n",
    "\n",
    "* Ingeniero de Datos, MsC en Ingeniería , Docente universitario"
   ]
  },
  {
   "cell_type": "code",
   "execution_count": 2,
   "metadata": {
    "vscode": {
     "languageId": "plaintext"
    }
   },
   "outputs": [],
   "source": [
    "import sqlite3\n",
    "import os\n",
    "import time \n",
    "import pandas as pd\n",
    "from pyspark.sql import SparkSession\n",
    "import os\n",
    "import time \n",
    "import pandas as pd\n",
    "from spark_sql_to_sqlite import spark_sql_to_sqlite\n"
   ]
  },
  {
   "cell_type": "code",
   "execution_count": 42,
   "metadata": {},
   "outputs": [],
   "source": [
    "\n",
    "\n",
    "def connect_sqlite(path):\n",
    "    conn = sqlite3.connect(path)\n",
    "    #Creando el cursor\n",
    "    cursor = conn.cursor()\n",
    "    return conn\n",
    "    \n",
    "def close_sqlite(conn):\n",
    "    conn.close()\n",
    "    \n",
    "\n",
    "\n",
    "def create_sqlite_table():\n",
    "    # Crear tabla en sqlite\n",
    "    create_table_sql = \"\"\"\n",
    "    CREATE TABLE IF NOT EXISTS prices (\n",
    "        timestamp DATE,\n",
    "        price double precision,\n",
    "        user_id INTEGER\n",
    "    );\n",
    "    \"\"\"\n",
    "    # Executar script de creacion\n",
    "    cursor.execute(create_table_sql)\n",
    "    # Guardar cambios\n",
    "    conn.commit()\n",
    "    # cerrar conexion\n",
    "    conn.close()\n",
    "    print(\"Tabla creada exitosamente.\")\n",
    "\n",
    "def insert_csv_sqlite(directory_path,sqlite_db_path,table_name):\n",
    "    \n",
    "    files = [f for f in os.listdir(directory_path) if f.endswith('.csv')]\n",
    "    datasets = {}\n",
    "    \n",
    "    for file in files:\n",
    "        file_path = os.path.join(directory_path, file)\n",
    "        dataset_name = os.path.splitext(file)[0]\n",
    "        print(file_path)\n",
    "        print(dataset_name)\n",
    "        dataset = spark.read.csv(file_path, inferSchema=True, header=True)\n",
    "        dataset_name=dataset_name.replace('-','_')\n",
    "        dataset.createOrReplaceTempView(f\"_{dataset_name}\")\n",
    "        conn = sqlite3.connect(sqlite_db_path)\n",
    "        spark_sql_to_sqlite(spark,f\"SELECT * from _{dataset_name}\", sqlite_db_path, table_name)\n",
    "        conn.commit()\n",
    "        conn.close()\n",
    "        spark.catalog.clearCache()\n",
    "    return datasets"
   ]
  },
  {
   "cell_type": "code",
   "execution_count": 43,
   "metadata": {},
   "outputs": [
    {
     "name": "stdout",
     "output_type": "stream",
     "text": [
      "../Data/raw/2012-5.csv\n",
      "2012-5\n",
      "../Data/raw/2012-1.csv\n",
      "2012-1\n",
      "../Data/raw/2012-3.csv\n",
      "2012-3\n",
      "../Data/raw/2012-4.csv\n",
      "2012-4\n",
      "../Data/raw/2012-2.csv\n",
      "2012-2\n"
     ]
    }
   ],
   "source": [
    "\n",
    "if __name__ == \"__main__\":\n",
    "    #Conectandonos  a la base de datos de sqlite\n",
    "    spark = SparkSession.builder.appName('Pragma Tecnical Test').getOrCreate()\n",
    "    sqlite_db_path='../database/pragma.db'\n",
    "    table_name='prices'\n",
    "    raw_data_path = \"../Data/raw\"\n",
    "    insert_csv_sqlite(raw_data_path,sqlite_db_path,'prices')\n"
   ]
  },
  {
   "cell_type": "code",
   "execution_count": 44,
   "metadata": {},
   "outputs": [
    {
     "name": "stdout",
     "output_type": "stream",
     "text": [
      "(0, '2/1/2012', 76, 1)\n",
      "(1, '2/2/2012', 66, 1)\n",
      "(2, '2/3/2012', 47, 10)\n",
      "(3, '2/4/2012', 100, 5)\n",
      "(4, '2/5/2012', 19, 4)\n",
      "(5, '2/6/2012', 59, 8)\n",
      "(6, '2/7/2012', 77, 3)\n",
      "(7, '2/8/2012', 100, 8)\n",
      "(8, '2/9/2012', 55, 1)\n",
      "(9, '2/10/2012', 19, 2)\n",
      "(10, '2/11/2012', 95, 3)\n",
      "(11, '2/12/2012', 73, 2)\n",
      "(12, '2/13/2012', 32, 1)\n",
      "(13, '2/14/2012', 95, 5)\n",
      "(14, '2/15/2012', 12, 8)\n",
      "(15, '2/16/2012', 37, 8)\n",
      "(16, '2/17/2012', 28, 10)\n",
      "(17, '2/18/2012', 10, 5)\n",
      "(18, '2/19/2012', 27, 9)\n",
      "(19, '2/20/2012', 14, 9)\n",
      "(20, '2/21/2012', 87, 5)\n",
      "(21, '2/22/2012', 75, 7)\n",
      "(22, '2/23/2012', 36, 8)\n",
      "(23, '2/24/2012', 84, 8)\n",
      "(24, '2/25/2012', 62, 6)\n",
      "(25, '2/26/2012', 56, 6)\n",
      "(26, '2/27/2012', 17, 4)\n",
      "(27, '2/28/2012', 64, 7)\n",
      "(28, '2/29/2012', 68, 3)\n"
     ]
    }
   ],
   "source": [
    "# Step 1: Connect to the SQLite database\n",
    "conn = sqlite3.connect(path)\n",
    "\n",
    "# Step 2: Create a cursor object\n",
    "cursor = conn.cursor()\n",
    "\n",
    "# Step 3: Write the SQL command to select data\n",
    "select_sql = \"select * FROM prices order by date(timestamp) desc\"\n",
    "\n",
    "# Step 4: Execute the SQL command\n",
    "cursor.execute(select_sql)\n",
    "conn.commit()\n",
    "# Step 5: Fetch the results\n",
    "rows = cursor.fetchall()\n",
    "\n",
    "# Step 6: Process the results\n",
    "for row in rows:\n",
    "    print(row)\n",
    "\n",
    "# Step 7: Close the connection\n",
    "#conn.close()"
   ]
  },
  {
   "cell_type": "code",
   "execution_count": null,
   "metadata": {},
   "outputs": [],
   "source": []
  },
  {
   "cell_type": "code",
   "execution_count": null,
   "metadata": {},
   "outputs": [],
   "source": []
  }
 ],
 "metadata": {
  "kernelspec": {
   "display_name": "Python 3 (ipykernel)",
   "language": "python",
   "name": "python3"
  },
  "language_info": {
   "codemirror_mode": {
    "name": "ipython",
    "version": 3
   },
   "file_extension": ".py",
   "mimetype": "text/x-python",
   "name": "python",
   "nbconvert_exporter": "python",
   "pygments_lexer": "ipython3",
   "version": "3.12.3"
  }
 },
 "nbformat": 4,
 "nbformat_minor": 4
}
