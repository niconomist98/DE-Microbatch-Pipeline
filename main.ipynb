{
 "cells": [
  {
   "cell_type": "markdown",
   "metadata": {},
   "source": [
    "## Prueba tecnica Ingeniero de Datos Pragma\n",
    "Presentado por: Nicolas Restrepo Carvajal\n",
    "\n",
    "* Ingeniero de Datos, MsC en Ingeniería , Docente universitario"
   ]
  },
  {
   "cell_type": "markdown",
   "metadata": {},
   "source": []
  }
 ],
 "metadata": {
  "language_info": {
   "name": "python"
  }
 },
 "nbformat": 4,
 "nbformat_minor": 2
}
